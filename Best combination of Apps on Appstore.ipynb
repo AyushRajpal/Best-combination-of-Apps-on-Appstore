{
 "cells": [
  {
   "cell_type": "markdown",
   "metadata": {},
   "source": [
    "## Importing and cleaning of data"
   ]
  },
  {
   "cell_type": "code",
   "execution_count": 1,
   "metadata": {},
   "outputs": [],
   "source": [
    "import pandas as pd\n",
    "games = pd.read_csv(r'C:\\Users\\Ayush Rajpal\\Downloads\\appstore_games.csv')"
   ]
  },
  {
   "cell_type": "code",
   "execution_count": 2,
   "metadata": {},
   "outputs": [
    {
     "data": {
      "text/html": [
       "<div>\n",
       "<style scoped>\n",
       "    .dataframe tbody tr th:only-of-type {\n",
       "        vertical-align: middle;\n",
       "    }\n",
       "\n",
       "    .dataframe tbody tr th {\n",
       "        vertical-align: top;\n",
       "    }\n",
       "\n",
       "    .dataframe thead th {\n",
       "        text-align: right;\n",
       "    }\n",
       "</style>\n",
       "<table border=\"1\" class=\"dataframe\">\n",
       "  <thead>\n",
       "    <tr style=\"text-align: right;\">\n",
       "      <th></th>\n",
       "      <th>URL</th>\n",
       "      <th>ID</th>\n",
       "      <th>Name</th>\n",
       "      <th>Subtitle</th>\n",
       "      <th>Icon URL</th>\n",
       "      <th>Average User Rating</th>\n",
       "      <th>User Rating Count</th>\n",
       "      <th>Price</th>\n",
       "      <th>In-app Purchases</th>\n",
       "      <th>Description</th>\n",
       "      <th>Developer</th>\n",
       "      <th>Age Rating</th>\n",
       "      <th>Languages</th>\n",
       "      <th>Size</th>\n",
       "      <th>Primary Genre</th>\n",
       "      <th>Genres</th>\n",
       "      <th>Original Release Date</th>\n",
       "      <th>Current Version Release Date</th>\n",
       "    </tr>\n",
       "  </thead>\n",
       "  <tbody>\n",
       "    <tr>\n",
       "      <th>0</th>\n",
       "      <td>https://apps.apple.com/us/app/sudoku/id284921427</td>\n",
       "      <td>284921427</td>\n",
       "      <td>Sudoku</td>\n",
       "      <td>NaN</td>\n",
       "      <td>https://is2-ssl.mzstatic.com/image/thumb/Purpl...</td>\n",
       "      <td>4.0</td>\n",
       "      <td>3553.0</td>\n",
       "      <td>2.99</td>\n",
       "      <td>NaN</td>\n",
       "      <td>Join over 21,000,000 of our fans and download ...</td>\n",
       "      <td>Mighty Mighty Good Games</td>\n",
       "      <td>4+</td>\n",
       "      <td>DA, NL, EN, FI, FR, DE, IT, JA, KO, NB, PL, PT...</td>\n",
       "      <td>15853568.0</td>\n",
       "      <td>Games</td>\n",
       "      <td>Games, Strategy, Puzzle</td>\n",
       "      <td>11/07/2008</td>\n",
       "      <td>30/05/2017</td>\n",
       "    </tr>\n",
       "    <tr>\n",
       "      <th>1</th>\n",
       "      <td>https://apps.apple.com/us/app/reversi/id284926400</td>\n",
       "      <td>284926400</td>\n",
       "      <td>Reversi</td>\n",
       "      <td>NaN</td>\n",
       "      <td>https://is4-ssl.mzstatic.com/image/thumb/Purpl...</td>\n",
       "      <td>3.5</td>\n",
       "      <td>284.0</td>\n",
       "      <td>1.99</td>\n",
       "      <td>NaN</td>\n",
       "      <td>The classic game of Reversi, also known as Oth...</td>\n",
       "      <td>Kiss The Machine</td>\n",
       "      <td>4+</td>\n",
       "      <td>EN</td>\n",
       "      <td>12328960.0</td>\n",
       "      <td>Games</td>\n",
       "      <td>Games, Strategy, Board</td>\n",
       "      <td>11/07/2008</td>\n",
       "      <td>17/05/2018</td>\n",
       "    </tr>\n",
       "    <tr>\n",
       "      <th>2</th>\n",
       "      <td>https://apps.apple.com/us/app/morocco/id284946595</td>\n",
       "      <td>284946595</td>\n",
       "      <td>Morocco</td>\n",
       "      <td>NaN</td>\n",
       "      <td>https://is5-ssl.mzstatic.com/image/thumb/Purpl...</td>\n",
       "      <td>3.0</td>\n",
       "      <td>8376.0</td>\n",
       "      <td>0.00</td>\n",
       "      <td>NaN</td>\n",
       "      <td>Play the classic strategy game Othello (also k...</td>\n",
       "      <td>Bayou Games</td>\n",
       "      <td>4+</td>\n",
       "      <td>EN</td>\n",
       "      <td>674816.0</td>\n",
       "      <td>Games</td>\n",
       "      <td>Games, Board, Strategy</td>\n",
       "      <td>11/07/2008</td>\n",
       "      <td>5/09/2017</td>\n",
       "    </tr>\n",
       "    <tr>\n",
       "      <th>3</th>\n",
       "      <td>https://apps.apple.com/us/app/sudoku-free/id28...</td>\n",
       "      <td>285755462</td>\n",
       "      <td>Sudoku (Free)</td>\n",
       "      <td>NaN</td>\n",
       "      <td>https://is3-ssl.mzstatic.com/image/thumb/Purpl...</td>\n",
       "      <td>3.5</td>\n",
       "      <td>190394.0</td>\n",
       "      <td>0.00</td>\n",
       "      <td>NaN</td>\n",
       "      <td>Top 100 free app for over a year.\\nRated \"Best...</td>\n",
       "      <td>Mighty Mighty Good Games</td>\n",
       "      <td>4+</td>\n",
       "      <td>DA, NL, EN, FI, FR, DE, IT, JA, KO, NB, PL, PT...</td>\n",
       "      <td>21552128.0</td>\n",
       "      <td>Games</td>\n",
       "      <td>Games, Strategy, Puzzle</td>\n",
       "      <td>23/07/2008</td>\n",
       "      <td>30/05/2017</td>\n",
       "    </tr>\n",
       "    <tr>\n",
       "      <th>4</th>\n",
       "      <td>https://apps.apple.com/us/app/senet-deluxe/id2...</td>\n",
       "      <td>285831220</td>\n",
       "      <td>Senet Deluxe</td>\n",
       "      <td>NaN</td>\n",
       "      <td>https://is1-ssl.mzstatic.com/image/thumb/Purpl...</td>\n",
       "      <td>3.5</td>\n",
       "      <td>28.0</td>\n",
       "      <td>2.99</td>\n",
       "      <td>NaN</td>\n",
       "      <td>\"Senet Deluxe - The Ancient Game of Life and A...</td>\n",
       "      <td>RoGame Software</td>\n",
       "      <td>4+</td>\n",
       "      <td>DA, NL, EN, FR, DE, EL, IT, JA, KO, NO, PT, RU...</td>\n",
       "      <td>34689024.0</td>\n",
       "      <td>Games</td>\n",
       "      <td>Games, Strategy, Board, Education</td>\n",
       "      <td>18/07/2008</td>\n",
       "      <td>22/07/2018</td>\n",
       "    </tr>\n",
       "  </tbody>\n",
       "</table>\n",
       "</div>"
      ],
      "text/plain": [
       "                                                 URL         ID  \\\n",
       "0   https://apps.apple.com/us/app/sudoku/id284921427  284921427   \n",
       "1  https://apps.apple.com/us/app/reversi/id284926400  284926400   \n",
       "2  https://apps.apple.com/us/app/morocco/id284946595  284946595   \n",
       "3  https://apps.apple.com/us/app/sudoku-free/id28...  285755462   \n",
       "4  https://apps.apple.com/us/app/senet-deluxe/id2...  285831220   \n",
       "\n",
       "            Name Subtitle                                           Icon URL  \\\n",
       "0         Sudoku      NaN  https://is2-ssl.mzstatic.com/image/thumb/Purpl...   \n",
       "1        Reversi      NaN  https://is4-ssl.mzstatic.com/image/thumb/Purpl...   \n",
       "2        Morocco      NaN  https://is5-ssl.mzstatic.com/image/thumb/Purpl...   \n",
       "3  Sudoku (Free)      NaN  https://is3-ssl.mzstatic.com/image/thumb/Purpl...   \n",
       "4   Senet Deluxe      NaN  https://is1-ssl.mzstatic.com/image/thumb/Purpl...   \n",
       "\n",
       "   Average User Rating  User Rating Count  Price In-app Purchases  \\\n",
       "0                  4.0             3553.0   2.99              NaN   \n",
       "1                  3.5              284.0   1.99              NaN   \n",
       "2                  3.0             8376.0   0.00              NaN   \n",
       "3                  3.5           190394.0   0.00              NaN   \n",
       "4                  3.5               28.0   2.99              NaN   \n",
       "\n",
       "                                         Description  \\\n",
       "0  Join over 21,000,000 of our fans and download ...   \n",
       "1  The classic game of Reversi, also known as Oth...   \n",
       "2  Play the classic strategy game Othello (also k...   \n",
       "3  Top 100 free app for over a year.\\nRated \"Best...   \n",
       "4  \"Senet Deluxe - The Ancient Game of Life and A...   \n",
       "\n",
       "                  Developer Age Rating  \\\n",
       "0  Mighty Mighty Good Games         4+   \n",
       "1          Kiss The Machine         4+   \n",
       "2               Bayou Games         4+   \n",
       "3  Mighty Mighty Good Games         4+   \n",
       "4           RoGame Software         4+   \n",
       "\n",
       "                                           Languages        Size  \\\n",
       "0  DA, NL, EN, FI, FR, DE, IT, JA, KO, NB, PL, PT...  15853568.0   \n",
       "1                                                 EN  12328960.0   \n",
       "2                                                 EN    674816.0   \n",
       "3  DA, NL, EN, FI, FR, DE, IT, JA, KO, NB, PL, PT...  21552128.0   \n",
       "4  DA, NL, EN, FR, DE, EL, IT, JA, KO, NO, PT, RU...  34689024.0   \n",
       "\n",
       "  Primary Genre                             Genres Original Release Date  \\\n",
       "0         Games            Games, Strategy, Puzzle            11/07/2008   \n",
       "1         Games             Games, Strategy, Board            11/07/2008   \n",
       "2         Games             Games, Board, Strategy            11/07/2008   \n",
       "3         Games            Games, Strategy, Puzzle            23/07/2008   \n",
       "4         Games  Games, Strategy, Board, Education            18/07/2008   \n",
       "\n",
       "  Current Version Release Date  \n",
       "0                   30/05/2017  \n",
       "1                   17/05/2018  \n",
       "2                    5/09/2017  \n",
       "3                   30/05/2017  \n",
       "4                   22/07/2018  "
      ]
     },
     "execution_count": 2,
     "metadata": {},
     "output_type": "execute_result"
    }
   ],
   "source": [
    "games.head()"
   ]
  },
  {
   "cell_type": "code",
   "execution_count": 3,
   "metadata": {},
   "outputs": [
    {
     "data": {
      "text/plain": [
       "Index(['URL', 'ID', 'Name', 'Subtitle', 'Icon URL', 'Average User Rating',\n",
       "       'User Rating Count', 'Price', 'In-app Purchases', 'Description',\n",
       "       'Developer', 'Age Rating', 'Languages', 'Size', 'Primary Genre',\n",
       "       'Genres', 'Original Release Date', 'Current Version Release Date'],\n",
       "      dtype='object')"
      ]
     },
     "execution_count": 3,
     "metadata": {},
     "output_type": "execute_result"
    }
   ],
   "source": [
    "games.columns"
   ]
  },
  {
   "cell_type": "code",
   "execution_count": 4,
   "metadata": {},
   "outputs": [
    {
     "data": {
      "text/html": [
       "<div>\n",
       "<style scoped>\n",
       "    .dataframe tbody tr th:only-of-type {\n",
       "        vertical-align: middle;\n",
       "    }\n",
       "\n",
       "    .dataframe tbody tr th {\n",
       "        vertical-align: top;\n",
       "    }\n",
       "\n",
       "    .dataframe thead th {\n",
       "        text-align: right;\n",
       "    }\n",
       "</style>\n",
       "<table border=\"1\" class=\"dataframe\">\n",
       "  <thead>\n",
       "    <tr style=\"text-align: right;\">\n",
       "      <th></th>\n",
       "      <th>Name</th>\n",
       "      <th>Average User Rating</th>\n",
       "      <th>User Rating Count</th>\n",
       "      <th>Price</th>\n",
       "      <th>Age Rating</th>\n",
       "      <th>Size</th>\n",
       "      <th>Primary Genre</th>\n",
       "    </tr>\n",
       "  </thead>\n",
       "  <tbody>\n",
       "    <tr>\n",
       "      <th>0</th>\n",
       "      <td>Sudoku</td>\n",
       "      <td>4.0</td>\n",
       "      <td>3553.0</td>\n",
       "      <td>2.99</td>\n",
       "      <td>4+</td>\n",
       "      <td>15853568.0</td>\n",
       "      <td>Games</td>\n",
       "    </tr>\n",
       "    <tr>\n",
       "      <th>1</th>\n",
       "      <td>Reversi</td>\n",
       "      <td>3.5</td>\n",
       "      <td>284.0</td>\n",
       "      <td>1.99</td>\n",
       "      <td>4+</td>\n",
       "      <td>12328960.0</td>\n",
       "      <td>Games</td>\n",
       "    </tr>\n",
       "    <tr>\n",
       "      <th>2</th>\n",
       "      <td>Morocco</td>\n",
       "      <td>3.0</td>\n",
       "      <td>8376.0</td>\n",
       "      <td>0.00</td>\n",
       "      <td>4+</td>\n",
       "      <td>674816.0</td>\n",
       "      <td>Games</td>\n",
       "    </tr>\n",
       "    <tr>\n",
       "      <th>3</th>\n",
       "      <td>Sudoku (Free)</td>\n",
       "      <td>3.5</td>\n",
       "      <td>190394.0</td>\n",
       "      <td>0.00</td>\n",
       "      <td>4+</td>\n",
       "      <td>21552128.0</td>\n",
       "      <td>Games</td>\n",
       "    </tr>\n",
       "    <tr>\n",
       "      <th>4</th>\n",
       "      <td>Senet Deluxe</td>\n",
       "      <td>3.5</td>\n",
       "      <td>28.0</td>\n",
       "      <td>2.99</td>\n",
       "      <td>4+</td>\n",
       "      <td>34689024.0</td>\n",
       "      <td>Games</td>\n",
       "    </tr>\n",
       "  </tbody>\n",
       "</table>\n",
       "</div>"
      ],
      "text/plain": [
       "            Name  Average User Rating  User Rating Count  Price Age Rating  \\\n",
       "0         Sudoku                  4.0             3553.0   2.99         4+   \n",
       "1        Reversi                  3.5              284.0   1.99         4+   \n",
       "2        Morocco                  3.0             8376.0   0.00         4+   \n",
       "3  Sudoku (Free)                  3.5           190394.0   0.00         4+   \n",
       "4   Senet Deluxe                  3.5               28.0   2.99         4+   \n",
       "\n",
       "         Size Primary Genre  \n",
       "0  15853568.0         Games  \n",
       "1  12328960.0         Games  \n",
       "2    674816.0         Games  \n",
       "3  21552128.0         Games  \n",
       "4  34689024.0         Games  "
      ]
     },
     "execution_count": 4,
     "metadata": {},
     "output_type": "execute_result"
    }
   ],
   "source": [
    "games.drop(['URL', 'ID', 'Subtitle', 'Icon URL', 'Description', 'In-app Purchases', 'Developer', 'Languages', 'Genres', 'Original Release Date', 'Current Version Release Date'], axis = 1, inplace = True)\n",
    "games.head()"
   ]
  },
  {
   "cell_type": "code",
   "execution_count": 5,
   "metadata": {},
   "outputs": [
    {
     "name": "stdout",
     "output_type": "stream",
     "text": [
      "(17007, 7)\n",
      "Index(['Name', 'Average User Rating', 'User Rating Count', 'Price',\n",
      "       'Age Rating', 'Size', 'Primary Genre'],\n",
      "      dtype='object')\n"
     ]
    }
   ],
   "source": [
    "print(games.shape)\n",
    "print(games.columns)"
   ]
  },
  {
   "cell_type": "code",
   "execution_count": 6,
   "metadata": {},
   "outputs": [],
   "source": [
    "# Dropping those rows which have null values in any one of these columns.\n",
    "games = games.dropna(axis=0, subset=['Name', 'Average User Rating', 'Age Rating', 'Primary Genre'], how = 'any')"
   ]
  },
  {
   "cell_type": "code",
   "execution_count": 7,
   "metadata": {},
   "outputs": [
    {
     "data": {
      "text/plain": [
       "(7561, 7)"
      ]
     },
     "execution_count": 7,
     "metadata": {},
     "output_type": "execute_result"
    }
   ],
   "source": [
    "games.shape"
   ]
  },
  {
   "cell_type": "code",
   "execution_count": 8,
   "metadata": {},
   "outputs": [
    {
     "name": "stdout",
     "output_type": "stream",
     "text": [
      "0\n",
      "0\n",
      "0\n"
     ]
    }
   ],
   "source": [
    "# Counting null values in the following columns\n",
    "# If there are any null values, will replace them by the mean of all the values of the particular column\n",
    "\n",
    "print(games['User Rating Count'].isnull().sum())\n",
    "print(games['Price'].isnull().sum())\n",
    "print(games['Size'].isnull().sum())"
   ]
  },
  {
   "cell_type": "code",
   "execution_count": 9,
   "metadata": {},
   "outputs": [
    {
     "data": {
      "text/plain": [
       "Index(['Name', 'Average_User_Rating', 'User_Rating_Count', 'Price',\n",
       "       'Age_Rating', 'Size', 'Primary_Genre'],\n",
       "      dtype='object')"
      ]
     },
     "execution_count": 9,
     "metadata": {},
     "output_type": "execute_result"
    }
   ],
   "source": [
    "# replace all spaces in the column names using with '_'\n",
    "games.columns = games.columns.str.replace(' ', '_')\n",
    "games.columns"
   ]
  },
  {
   "cell_type": "code",
   "execution_count": 10,
   "metadata": {},
   "outputs": [],
   "source": [
    "# To prevent biased user ratings, dropping the apps which have User_Rating_Count less than 10(taking less value considering data loss) \n",
    "games = games[games.User_Rating_Count >= 10]"
   ]
  },
  {
   "cell_type": "code",
   "execution_count": 11,
   "metadata": {},
   "outputs": [],
   "source": [
    "# Resetting the index values after deletion of rows\n",
    "games.reset_index(drop = True, inplace=True)"
   ]
  },
  {
   "cell_type": "code",
   "execution_count": 12,
   "metadata": {},
   "outputs": [
    {
     "data": {
      "text/plain": [
       "(6156, 7)"
      ]
     },
     "execution_count": 12,
     "metadata": {},
     "output_type": "execute_result"
    }
   ],
   "source": [
    "games.shape"
   ]
  },
  {
   "cell_type": "code",
   "execution_count": 13,
   "metadata": {},
   "outputs": [
    {
     "data": {
      "text/html": [
       "<div>\n",
       "<style scoped>\n",
       "    .dataframe tbody tr th:only-of-type {\n",
       "        vertical-align: middle;\n",
       "    }\n",
       "\n",
       "    .dataframe tbody tr th {\n",
       "        vertical-align: top;\n",
       "    }\n",
       "\n",
       "    .dataframe thead th {\n",
       "        text-align: right;\n",
       "    }\n",
       "</style>\n",
       "<table border=\"1\" class=\"dataframe\">\n",
       "  <thead>\n",
       "    <tr style=\"text-align: right;\">\n",
       "      <th></th>\n",
       "      <th>Name</th>\n",
       "      <th>Average_User_Rating</th>\n",
       "      <th>User_Rating_Count</th>\n",
       "      <th>Price</th>\n",
       "      <th>Age_Rating</th>\n",
       "      <th>Size</th>\n",
       "      <th>Primary_Genre</th>\n",
       "    </tr>\n",
       "  </thead>\n",
       "  <tbody>\n",
       "    <tr>\n",
       "      <th>0</th>\n",
       "      <td>Sudoku</td>\n",
       "      <td>4.0</td>\n",
       "      <td>3553.0</td>\n",
       "      <td>2.99</td>\n",
       "      <td>4+</td>\n",
       "      <td>15853568.0</td>\n",
       "      <td>Games</td>\n",
       "    </tr>\n",
       "    <tr>\n",
       "      <th>1</th>\n",
       "      <td>Reversi</td>\n",
       "      <td>3.5</td>\n",
       "      <td>284.0</td>\n",
       "      <td>1.99</td>\n",
       "      <td>4+</td>\n",
       "      <td>12328960.0</td>\n",
       "      <td>Games</td>\n",
       "    </tr>\n",
       "    <tr>\n",
       "      <th>2</th>\n",
       "      <td>Morocco</td>\n",
       "      <td>3.0</td>\n",
       "      <td>8376.0</td>\n",
       "      <td>0.00</td>\n",
       "      <td>4+</td>\n",
       "      <td>674816.0</td>\n",
       "      <td>Games</td>\n",
       "    </tr>\n",
       "    <tr>\n",
       "      <th>3</th>\n",
       "      <td>Sudoku (Free)</td>\n",
       "      <td>3.5</td>\n",
       "      <td>190394.0</td>\n",
       "      <td>0.00</td>\n",
       "      <td>4+</td>\n",
       "      <td>21552128.0</td>\n",
       "      <td>Games</td>\n",
       "    </tr>\n",
       "    <tr>\n",
       "      <th>4</th>\n",
       "      <td>Senet Deluxe</td>\n",
       "      <td>3.5</td>\n",
       "      <td>28.0</td>\n",
       "      <td>2.99</td>\n",
       "      <td>4+</td>\n",
       "      <td>34689024.0</td>\n",
       "      <td>Games</td>\n",
       "    </tr>\n",
       "  </tbody>\n",
       "</table>\n",
       "</div>"
      ],
      "text/plain": [
       "            Name  Average_User_Rating  User_Rating_Count  Price Age_Rating  \\\n",
       "0         Sudoku                  4.0             3553.0   2.99         4+   \n",
       "1        Reversi                  3.5              284.0   1.99         4+   \n",
       "2        Morocco                  3.0             8376.0   0.00         4+   \n",
       "3  Sudoku (Free)                  3.5           190394.0   0.00         4+   \n",
       "4   Senet Deluxe                  3.5               28.0   2.99         4+   \n",
       "\n",
       "         Size Primary_Genre  \n",
       "0  15853568.0         Games  \n",
       "1  12328960.0         Games  \n",
       "2    674816.0         Games  \n",
       "3  21552128.0         Games  \n",
       "4  34689024.0         Games  "
      ]
     },
     "execution_count": 13,
     "metadata": {},
     "output_type": "execute_result"
    }
   ],
   "source": [
    "games.head()"
   ]
  },
  {
   "cell_type": "markdown",
   "metadata": {},
   "source": [
    "## User Ratings with respect to Genres"
   ]
  },
  {
   "cell_type": "code",
   "execution_count": 43,
   "metadata": {},
   "outputs": [
    {
     "name": "stdout",
     "output_type": "stream",
     "text": [
      "['Games' 'Entertainment' 'Finance' 'Sports' 'Reference' 'Medical'\n",
      " 'Utilities' 'Book' 'Education' 'Productivity' 'News' 'Business'\n",
      " 'Social Networking' 'Health & Fitness' 'Lifestyle' 'Music' 'Stickers'\n",
      " 'Shopping' 'Navigation']\n"
     ]
    }
   ],
   "source": [
    "unique_val = []\n",
    "unique_val = games.Primary_Genre.unique()\n",
    "print(unique_val)"
   ]
  },
  {
   "cell_type": "code",
   "execution_count": 22,
   "metadata": {},
   "outputs": [
    {
     "name": "stdout",
     "output_type": "stream",
     "text": [
      "{'Games': 5956, 'Entertainment': 69, 'Utilities': 37, 'Education': 35, 'Sports': 16, 'Reference': 11, 'Finance': 6, 'Productivity': 4, 'Health & Fitness': 3, 'Social Networking': 3, 'Music': 3, 'Book': 3, 'Lifestyle': 2, 'Stickers': 2, 'Medical': 2, 'News': 1, 'Business': 1, 'Navigation': 1, 'Shopping': 1}\n"
     ]
    }
   ],
   "source": [
    "countval = {}\n",
    "countval = dict(games.Primary_Genre.value_counts())\n",
    "print(countval)"
   ]
  },
  {
   "cell_type": "code",
   "execution_count": 36,
   "metadata": {},
   "outputs": [
    {
     "data": {
      "text/plain": [
       "Primary_Genre\n",
       "Book                 4.166667\n",
       "Business             4.000000\n",
       "Education            4.228571\n",
       "Entertainment        3.768116\n",
       "Finance              4.333333\n",
       "Games                4.106195\n",
       "Health & Fitness     4.500000\n",
       "Lifestyle            3.750000\n",
       "Medical              3.000000\n",
       "Music                4.500000\n",
       "Navigation           4.000000\n",
       "News                 4.500000\n",
       "Productivity         4.125000\n",
       "Reference            3.318182\n",
       "Shopping             4.500000\n",
       "Social Networking    3.833333\n",
       "Sports               4.375000\n",
       "Stickers             3.250000\n",
       "Utilities            4.081081\n",
       "Name: Average_User_Rating, dtype: float64"
      ]
     },
     "execution_count": 36,
     "metadata": {},
     "output_type": "execute_result"
    }
   ],
   "source": [
    "# Improvement Done later - Another way of doing the task below\n",
    "\n",
    "games.groupby('Primary_Genre').Average_User_Rating.mean()"
   ]
  },
  {
   "cell_type": "code",
   "execution_count": 39,
   "metadata": {},
   "outputs": [
    {
     "name": "stdout",
     "output_type": "stream",
     "text": [
      "{'Book': 4.17, 'Business': 4.0, 'Education': 4.23, 'Entertainment': 3.77, 'Finance': 4.33, 'Games': 4.11, 'Health & Fitness': 4.5, 'Lifestyle': 3.75, 'Medical': 3.0, 'Music': 4.5, 'Navigation': 4.0, 'News': 4.5, 'Productivity': 4.12, 'Reference': 3.32, 'Shopping': 4.5, 'Social Networking': 3.83, 'Sports': 4.38, 'Stickers': 3.25, 'Utilities': 4.08}\n"
     ]
    }
   ],
   "source": [
    "# Improvement Done later\n",
    "# Converting the Series above into dictionary and rounding the values till 2 decimal places\n",
    "\n",
    "user_ratings2 = dict(round(games.groupby('Primary_Genre').Average_User_Rating.mean(),2))\n",
    "print(user_ratings2)"
   ]
  },
  {
   "cell_type": "code",
   "execution_count": 23,
   "metadata": {},
   "outputs": [
    {
     "name": "stdout",
     "output_type": "stream",
     "text": [
      "{'Games': 24456.5, 'Entertainment': 260.0, 'Finance': 26.0, 'Sports': 70.0, 'Reference': 36.5, 'Medical': 6.0, 'Utilities': 151.0, 'Book': 12.5, 'Education': 148.0, 'Productivity': 16.5, 'News': 4.5, 'Business': 4.0, 'Social Networking': 11.5, 'Health & Fitness': 13.5, 'Lifestyle': 7.5, 'Music': 13.5, 'Stickers': 6.5, 'Shopping': 4.5, 'Navigation': 4.0}\n"
     ]
    }
   ],
   "source": [
    "x = games.shape[0]\n",
    "totalratings = {}\n",
    "\n",
    "for i in range(x):\n",
    "    if games.Primary_Genre[i] in totalratings:\n",
    "        totalratings[games.Primary_Genre[i]] += games.Average_User_Rating[i]\n",
    "    else:\n",
    "        totalratings[games.Primary_Genre[i]] = games.Average_User_Rating[i]\n",
    "print(totalratings)"
   ]
  },
  {
   "cell_type": "code",
   "execution_count": 31,
   "metadata": {},
   "outputs": [
    {
     "name": "stdout",
     "output_type": "stream",
     "text": [
      "[4.106195433176628, 3.7681159420289854, 4.333333333333333, 4.375, 3.3181818181818183, 3.0, 4.081081081081081, 4.166666666666667, 4.228571428571429, 4.125, 4.5, 4.0, 3.8333333333333335, 4.5, 3.75, 4.5, 3.25, 4.5, 4.0]\n"
     ]
    }
   ],
   "source": [
    "# Taking the mean and storing in the list \n",
    "user_rating = []\n",
    "for i in uni:\n",
    "    a = totalratings[i]/countval[i]\n",
    "    user_rating.append(a)\n",
    "print(user_rating)"
   ]
  },
  {
   "cell_type": "code",
   "execution_count": 32,
   "metadata": {},
   "outputs": [
    {
     "name": "stdout",
     "output_type": "stream",
     "text": [
      "[4.11, 3.77, 4.33, 4.38, 3.32, 3.0, 4.08, 4.17, 4.23, 4.12, 4.5, 4.0, 3.83, 4.5, 3.75, 4.5, 3.25, 4.5, 4.0]\n"
     ]
    }
   ],
   "source": [
    "# Rounding off the values till 2 decimal places\n",
    "user_ratings = []\n",
    "for i in user_rating:\n",
    "    user_ratings.append(round(i,2))\n",
    "print(user_ratings)"
   ]
  },
  {
   "cell_type": "code",
   "execution_count": 40,
   "metadata": {},
   "outputs": [],
   "source": [
    "import matplotlib.pyplot as plt\n",
    "%matplotlib inline"
   ]
  },
  {
   "cell_type": "code",
   "execution_count": 59,
   "metadata": {},
   "outputs": [
    {
     "data": {
      "image/png": "[encoded data removed]",
      "text/plain": [
       "<Figure size 432x288 with 1 Axes>"
      ]
     },
     "metadata": {
      "needs_background": "light"
     },
     "output_type": "display_data"
    }
   ],
   "source": [
    "plt.barh(unique_val, user_ratings, alpha=0.90)\n",
    "plt.xlabel(\"Ratings\")\n",
    "plt.ylabel(\"Genres\")\n",
    "plt.title('User Ratings vs Genres')\n",
    "plt.grid()\n",
    "plt.show()"
   ]
  },
  {
   "cell_type": "markdown",
   "metadata": {},
   "source": [
    "## Trend of User Ratings with Price"
   ]
  },
  {
   "cell_type": "code",
   "execution_count": 60,
   "metadata": {},
   "outputs": [
    {
     "data": {
      "text/html": [
       "<div>\n",
       "<style scoped>\n",
       "    .dataframe tbody tr th:only-of-type {\n",
       "        vertical-align: middle;\n",
       "    }\n",
       "\n",
       "    .dataframe tbody tr th {\n",
       "        vertical-align: top;\n",
       "    }\n",
       "\n",
       "    .dataframe thead th {\n",
       "        text-align: right;\n",
       "    }\n",
       "</style>\n",
       "<table border=\"1\" class=\"dataframe\">\n",
       "  <thead>\n",
       "    <tr style=\"text-align: right;\">\n",
       "      <th></th>\n",
       "      <th>Name</th>\n",
       "      <th>Average_User_Rating</th>\n",
       "      <th>User_Rating_Count</th>\n",
       "      <th>Price</th>\n",
       "      <th>Age_Rating</th>\n",
       "      <th>Size</th>\n",
       "      <th>Primary_Genre</th>\n",
       "    </tr>\n",
       "  </thead>\n",
       "  <tbody>\n",
       "    <tr>\n",
       "      <th>0</th>\n",
       "      <td>Sudoku</td>\n",
       "      <td>4.0</td>\n",
       "      <td>3553.0</td>\n",
       "      <td>2.99</td>\n",
       "      <td>4+</td>\n",
       "      <td>15853568.0</td>\n",
       "      <td>Games</td>\n",
       "    </tr>\n",
       "    <tr>\n",
       "      <th>1</th>\n",
       "      <td>Reversi</td>\n",
       "      <td>3.5</td>\n",
       "      <td>284.0</td>\n",
       "      <td>1.99</td>\n",
       "      <td>4+</td>\n",
       "      <td>12328960.0</td>\n",
       "      <td>Games</td>\n",
       "    </tr>\n",
       "    <tr>\n",
       "      <th>2</th>\n",
       "      <td>Morocco</td>\n",
       "      <td>3.0</td>\n",
       "      <td>8376.0</td>\n",
       "      <td>0.00</td>\n",
       "      <td>4+</td>\n",
       "      <td>674816.0</td>\n",
       "      <td>Games</td>\n",
       "    </tr>\n",
       "    <tr>\n",
       "      <th>3</th>\n",
       "      <td>Sudoku (Free)</td>\n",
       "      <td>3.5</td>\n",
       "      <td>190394.0</td>\n",
       "      <td>0.00</td>\n",
       "      <td>4+</td>\n",
       "      <td>21552128.0</td>\n",
       "      <td>Games</td>\n",
       "    </tr>\n",
       "    <tr>\n",
       "      <th>4</th>\n",
       "      <td>Senet Deluxe</td>\n",
       "      <td>3.5</td>\n",
       "      <td>28.0</td>\n",
       "      <td>2.99</td>\n",
       "      <td>4+</td>\n",
       "      <td>34689024.0</td>\n",
       "      <td>Games</td>\n",
       "    </tr>\n",
       "  </tbody>\n",
       "</table>\n",
       "</div>"
      ],
      "text/plain": [
       "            Name  Average_User_Rating  User_Rating_Count  Price Age_Rating  \\\n",
       "0         Sudoku                  4.0             3553.0   2.99         4+   \n",
       "1        Reversi                  3.5              284.0   1.99         4+   \n",
       "2        Morocco                  3.0             8376.0   0.00         4+   \n",
       "3  Sudoku (Free)                  3.5           190394.0   0.00         4+   \n",
       "4   Senet Deluxe                  3.5               28.0   2.99         4+   \n",
       "\n",
       "         Size Primary_Genre  \n",
       "0  15853568.0         Games  \n",
       "1  12328960.0         Games  \n",
       "2    674816.0         Games  \n",
       "3  21552128.0         Games  \n",
       "4  34689024.0         Games  "
      ]
     },
     "execution_count": 60,
     "metadata": {},
     "output_type": "execute_result"
    }
   ],
   "source": [
    "games.head()"
   ]
  },
  {
   "cell_type": "code",
   "execution_count": 65,
   "metadata": {},
   "outputs": [
    {
     "data": {
      "text/plain": [
       "18"
      ]
     },
     "execution_count": 65,
     "metadata": {},
     "output_type": "execute_result"
    }
   ],
   "source": [
    "games.Price.nunique()"
   ]
  },
  {
   "cell_type": "code",
   "execution_count": 63,
   "metadata": {},
   "outputs": [
    {
     "data": {
      "text/plain": [
       "Price\n",
       "0.00      4.109959\n",
       "0.99      3.951311\n",
       "1.99      4.102484\n",
       "2.99      4.058036\n",
       "3.99      4.117021\n",
       "4.99      4.100000\n",
       "5.99      4.019231\n",
       "6.99      4.187500\n",
       "7.99      4.150000\n",
       "8.99      4.166667\n",
       "9.99      4.290698\n",
       "11.99     4.166667\n",
       "12.99     4.000000\n",
       "14.99     3.750000\n",
       "16.99     4.000000\n",
       "19.99     4.100000\n",
       "59.99     4.000000\n",
       "139.99    4.500000\n",
       "Name: Average_User_Rating, dtype: float64"
      ]
     },
     "execution_count": 63,
     "metadata": {},
     "output_type": "execute_result"
    }
   ],
   "source": [
    "games.groupby('Price').Average_User_Rating.mean()"
   ]
  },
  {
   "cell_type": "code",
   "execution_count": 67,
   "metadata": {},
   "outputs": [
    {
     "name": "stdout",
     "output_type": "stream",
     "text": [
      "{0.0: 4.109958912150264, 0.99: 3.951310861423221, 1.99: 4.10248447204969, 2.99: 4.058035714285714, 3.99: 4.117021276595745, 4.99: 4.1, 5.99: 4.019230769230769, 6.99: 4.1875, 7.99: 4.15, 8.99: 4.166666666666667, 9.99: 4.290697674418604, 11.99: 4.166666666666667, 12.99: 4.0, 14.99: 3.75, 16.99: 4.0, 19.99: 4.1, 59.99: 4.0, 139.99: 4.5}\n"
     ]
    }
   ],
   "source": [
    "price_dict = dict(games.groupby('Price').Average_User_Rating.mean())\n",
    "print(price_dict)"
   ]
  },
  {
   "cell_type": "code",
   "execution_count": 69,
   "metadata": {},
   "outputs": [
    {
     "name": "stdout",
     "output_type": "stream",
     "text": [
      "[0.0, 0.99, 1.99, 2.99, 3.99, 4.99, 5.99, 6.99, 7.99, 8.99, 9.99, 11.99, 12.99, 14.99, 16.99, 19.99, 59.99, 139.99]\n",
      "[4.109958912150264, 3.951310861423221, 4.10248447204969, 4.058035714285714, 4.117021276595745, 4.1, 4.019230769230769, 4.1875, 4.15, 4.166666666666667, 4.290697674418604, 4.166666666666667, 4.0, 3.75, 4.0, 4.1, 4.0, 4.5]\n"
     ]
    }
   ],
   "source": [
    "# Splitting the dictionary into 2 different lists\n",
    "price = list(price_dict.keys())\n",
    "rating = list(price_dict.values())\n",
    "print(price)\n",
    "print(rating)"
   ]
  },
  {
   "cell_type": "code",
   "execution_count": 71,
   "metadata": {},
   "outputs": [
    {
     "name": "stdout",
     "output_type": "stream",
     "text": [
      "{'0-3': 16.22178995990889, '3-6': 12.236252045826514, '6-9': 12.504166666666666, '9-12': 8.45736434108527, '12-15': 7.75, '15-18': 4.0, '>18': 12.6}\n",
      "{'0-3': 4, '3-6': 3, '6-9': 3, '9-12': 2, '12-15': 2, '15-18': 1, '>18': 3}\n"
     ]
    }
   ],
   "source": [
    "# Sorting the data into different labels\n",
    "Price = {}\n",
    "Count = {}\n",
    "for i in range(len(price)):\n",
    "    if price[i] <= 3:\n",
    "        if '0-3' in Price:\n",
    "            Price['0-3'] += rating[i]\n",
    "            Count['0-3'] += 1           \n",
    "        else:\n",
    "            Price['0-3'] = rating[i]\n",
    "            Count['0-3'] = 1\n",
    "            \n",
    "    elif price[i] > 3 and price[i] <=6:\n",
    "        if '3-6' in Price:\n",
    "            Price ['3-6'] += rating[i]\n",
    "            Count ['3-6'] += 1\n",
    "        else:\n",
    "            Price ['3-6'] = rating[i]\n",
    "            Count ['3-6'] = 1\n",
    "            \n",
    "    elif price[i] > 6 and price[i] <=9:\n",
    "        if '6-9' in Price:\n",
    "            Price ['6-9'] += rating[i]\n",
    "            Count ['6-9'] += 1\n",
    "        else:\n",
    "            Price ['6-9'] = rating[i]\n",
    "            Count ['6-9'] = 1\n",
    "            \n",
    "    elif price[i] >9 and price[i] <=12:\n",
    "        if '9-12' in Price:\n",
    "            Price ['9-12'] += rating[i]\n",
    "            Count ['9-12'] += 1\n",
    "        else:\n",
    "            Price ['9-12'] = rating[i]\n",
    "            Count ['9-12'] = 1\n",
    "            \n",
    "    elif price[i] >12 and price[i] <=15:\n",
    "        if '12-15' in Price:\n",
    "            Price ['12-15'] += rating[i]\n",
    "            Count ['12-15'] += 1\n",
    "        else:\n",
    "            Price ['12-15'] = rating[i]\n",
    "            Count ['12-15'] = 1\n",
    "            \n",
    "    elif price[i] >15 and price[i] <=18:\n",
    "        if '15-18' in Price:\n",
    "            Price ['15-18'] += rating[i]\n",
    "            Count ['15-18'] += 1\n",
    "        else:\n",
    "            Price ['15-18'] = rating[i]\n",
    "            Count ['15-18'] = 1\n",
    "            \n",
    "    elif price[i] >18:\n",
    "        if '>18' in Price:\n",
    "            Price ['>18'] += rating[i]\n",
    "            Count ['>18'] += 1\n",
    "        else:\n",
    "            Price ['>18'] = rating[i]\n",
    "            Count ['>18'] = 1            \n",
    "print(Price)\n",
    "print(Count)"
   ]
  },
  {
   "cell_type": "code",
   "execution_count": 74,
   "metadata": {},
   "outputs": [
    {
     "name": "stdout",
     "output_type": "stream",
     "text": [
      "[4.055447489977222, 4.0787506819421715, 4.168055555555555, 4.228682170542635, 3.875, 4.0, 4.2]\n"
     ]
    }
   ],
   "source": [
    "Range=['0-3', '3-6', '6-9', '9-12', '12-15', '15-18', '>18']\n",
    "final_rating = []\n",
    "for i in Range:\n",
    "    final_rating.append(Price[i]/Count[i])\n",
    "print(final_rating)"
   ]
  },
  {
   "cell_type": "code",
   "execution_count": 75,
   "metadata": {},
   "outputs": [
    {
     "name": "stdout",
     "output_type": "stream",
     "text": [
      "[4.06, 4.08, 4.17, 4.23, 3.88, 4.0, 4.2]\n"
     ]
    }
   ],
   "source": [
    "final_ratings = []\n",
    "for i in final_rating:\n",
    "    final_ratings.append(round(i,2))\n",
    "print(final_ratings)"
   ]
  },
  {
   "cell_type": "code",
   "execution_count": 81,
   "metadata": {},
   "outputs": [
    {
     "data": {
      "image/png": "[encoded data removed]",
      "text/plain": [
       "<Figure size 432x288 with 1 Axes>"
      ]
     },
     "metadata": {
      "needs_background": "light"
     },
     "output_type": "display_data"
    }
   ],
   "source": [
    "plt.barh(Range, final_ratings, alpha=0.90)\n",
    "plt.xlabel(\"Ratings\")\n",
    "plt.ylabel(\"Price Range\")\n",
    "plt.title('User Ratings vs Price')\n",
    "plt.grid()\n",
    "plt.show()"
   ]
  },
  {
   "cell_type": "markdown",
   "metadata": {},
   "source": [
    "## Inferences:"
   ]
  },
  {
   "cell_type": "markdown",
   "metadata": {},
   "source": [
    "###  Genres like Shopping, Music, Health and Fitness and News apps have highest user ratings as there are most liked by consumers.\n",
    "###  These genres also have lower competition as compared to others.\n",
    "###  Stickers, Medical and Reference have got the least ratings thus developers should avoid these Genres.\n",
    "###  Developer can price the app as per discretion, as most of them have ratings above 4.\n",
    "###  Only the apps between the price range of 12 and 15 have average ratings less than 4.\n",
    "###  At the last, developers should focus more on the Genres that have high average ratings as the cost is not a major issue. Consumers prefer the content more than price."
   ]
  },
  {
   "cell_type": "code",
   "execution_count": null,
   "metadata": {
    "collapsed": true
   },
   "outputs": [],
   "source": []
  }
 ],
 "metadata": {
  "kernelspec": {
   "display_name": "Python 3",
   "language": "python",
   "name": "python3"
  },
  "language_info": {
   "codemirror_mode": {
    "name": "ipython",
    "version": 3
   },
   "file_extension": ".py",
   "mimetype": "text/x-python",
   "name": "python",
   "nbconvert_exporter": "python",
   "pygments_lexer": "ipython3",
   "version": "3.7.3"
  }
 },
 "nbformat": 4,
 "nbformat_minor": 2
}
